{
  "nbformat": 4,
  "nbformat_minor": 0,
  "metadata": {
    "colab": {
      "name": "parth-dhawan.ipynb",
      "provenance": []
    },
    "kernelspec": {
      "name": "python3",
      "display_name": "Python 3"
    },
    "language_info": {
      "name": "python"
    }
  },
  "cells": [
    {
      "cell_type": "markdown",
      "source": [
        "## Practical Exam\n",
        "- Submitted By: Parth Dhawan\n",
        "\n",
        "### Q1\n",
        "\n",
        "a)"
      ],
      "metadata": {
        "id": "IvZ_-RDEoTph"
      }
    },
    {
      "cell_type": "code",
      "source": [
        "def oddSum(n) :\n",
        "    sum = 0\n",
        "    curr = 1\n",
        "    i = 0\n",
        "    while i < n:\n",
        "        sum = sum + curr\n",
        "        curr = curr + 2\n",
        "        i = i + 1\n",
        "    return sum\n",
        " \n",
        "# Driver Code\n",
        "n = 20\n",
        "print (\" Sum of first\" , n, \"Odd Numbers is: \",oddSum(n) )"
      ],
      "metadata": {
        "colab": {
          "base_uri": "https://localhost:8080/"
        },
        "id": "e_yHVEBIn1JE",
        "outputId": "6ef84bea-5619-42ec-e932-196dfdb305dd"
      },
      "execution_count": 3,
      "outputs": [
        {
          "output_type": "stream",
          "name": "stdout",
          "text": [
            " Sum of first 20 Odd Numbers is:  400\n"
          ]
        }
      ]
    },
    {
      "cell_type": "markdown",
      "source": [
        "#### b) "
      ],
      "metadata": {
        "id": "aQuS1Kgyoao4"
      }
    },
    {
      "cell_type": "code",
      "source": [
        "def evensum(n):\n",
        "    curr = 2\n",
        "    sum = 0\n",
        "    i = 1\n",
        "     \n",
        "    # sum of first n even numbers\n",
        "    while i <= n:\n",
        "        sum += curr\n",
        "         \n",
        "        # next even number\n",
        "        curr += 2\n",
        "        i = i + 1\n",
        "    return sum\n",
        " \n",
        "# Driver Code\n",
        "n = 20\n",
        "print(\"sum of first \", n, \"even number is: \",\n",
        "      evensum(n))"
      ],
      "metadata": {
        "colab": {
          "base_uri": "https://localhost:8080/"
        },
        "id": "Y455YUMroJgI",
        "outputId": "3031e835-d64d-4b89-d660-815b01883323"
      },
      "execution_count": 4,
      "outputs": [
        {
          "output_type": "stream",
          "name": "stdout",
          "text": [
            "sum of first  20 even number is:  420\n"
          ]
        }
      ]
    },
    {
      "cell_type": "markdown",
      "source": [
        "### c)"
      ],
      "metadata": {
        "id": "_d0x8UW1ooxw"
      }
    },
    {
      "cell_type": "code",
      "source": [
        "num = 16\n",
        "\n",
        "if num < 0:\n",
        "   print(\"Enter a positive number\")\n",
        "else:\n",
        "   sum = 0\n",
        "   while(num > 0):\n",
        "       sum += num\n",
        "       num -= 1\n",
        "   print(\"The sum is\", sum)"
      ],
      "metadata": {
        "colab": {
          "base_uri": "https://localhost:8080/"
        },
        "id": "WfN6in9KoXF4",
        "outputId": "2c5ce49f-8859-4402-bca2-3e2670b019e0"
      },
      "execution_count": 5,
      "outputs": [
        {
          "output_type": "stream",
          "name": "stdout",
          "text": [
            "The sum is 136\n"
          ]
        }
      ]
    },
    {
      "cell_type": "markdown",
      "source": [
        "#### Q2)\n",
        "\n"
      ],
      "metadata": {
        "id": "e-ASullJoq6e"
      }
    },
    {
      "cell_type": "code",
      "source": [
        "t1 = (1,2,5,7,9,2,4,6,8,10)"
      ],
      "metadata": {
        "id": "oaJb2--eonjU"
      },
      "execution_count": 15,
      "outputs": []
    },
    {
      "cell_type": "markdown",
      "source": [
        "#### a)"
      ],
      "metadata": {
        "id": "Cvn-qN3GpEEf"
      }
    },
    {
      "cell_type": "code",
      "source": [
        "#first half of the tuple\n",
        "print('First half of tuple:', t1[:5])\n",
        "print('Second half of the tuple',t1[5:])"
      ],
      "metadata": {
        "colab": {
          "base_uri": "https://localhost:8080/"
        },
        "id": "RuyXuIA6pDXg",
        "outputId": "689ae2b6-6f67-4c34-c941-bd6241f40819"
      },
      "execution_count": 17,
      "outputs": [
        {
          "output_type": "stream",
          "name": "stdout",
          "text": [
            "First half of tuple: (1, 2, 5, 7, 9)\n",
            "Second half of the tuple (2, 4, 6, 8, 10)\n"
          ]
        }
      ]
    },
    {
      "cell_type": "markdown",
      "source": [
        "#### b)"
      ],
      "metadata": {
        "id": "cGIXUISYqEcJ"
      }
    },
    {
      "cell_type": "code",
      "source": [
        "print(\"\\nThe Even Numbers in this t1 Tuple are:\")\n",
        "for i in range(len(t1)):\n",
        "    if(t1[i] % 2 == 0):\n",
        "        print(t1[i], end = \"  \")"
      ],
      "metadata": {
        "colab": {
          "base_uri": "https://localhost:8080/"
        },
        "id": "EZ-KqBkrpT3I",
        "outputId": "ae8ac24d-72f6-407a-b235-92f4fb6e8961"
      },
      "execution_count": 19,
      "outputs": [
        {
          "output_type": "stream",
          "name": "stdout",
          "text": [
            "\n",
            "The Even Numbers in this t1 Tuple are:\n",
            "2  2  4  6  8  10  "
          ]
        }
      ]
    },
    {
      "cell_type": "markdown",
      "source": [
        "### c)"
      ],
      "metadata": {
        "id": "nrmgd_wuqXbY"
      }
    },
    {
      "cell_type": "code",
      "source": [
        "#conatinating \n",
        "t2=(11,13,15)\n",
        "t1=t1+t2\n",
        "print('concatinated tuple is:',t1+t2)"
      ],
      "metadata": {
        "colab": {
          "base_uri": "https://localhost:8080/"
        },
        "id": "cwlD729KpURR",
        "outputId": "acc571d2-7b43-44a7-eb40-a0e5b99e4119"
      },
      "execution_count": 23,
      "outputs": [
        {
          "output_type": "stream",
          "name": "stdout",
          "text": [
            "concatinated tuple is: (1, 2, 5, 7, 9, 2, 4, 6, 8, 10, 11, 13, 15, 11, 13, 15)\n"
          ]
        }
      ]
    },
    {
      "cell_type": "markdown",
      "source": [
        "#### d)"
      ],
      "metadata": {
        "id": "w6geIpR-qsPz"
      }
    },
    {
      "cell_type": "code",
      "source": [
        "#max and. min value\n",
        "print (\"maximum value=\",max(t1))\n",
        "print (\"minimum value=\",min(t1))"
      ],
      "metadata": {
        "colab": {
          "base_uri": "https://localhost:8080/"
        },
        "id": "a9HLIF95piJs",
        "outputId": "b4f31eb0-3bca-48d7-bd81-f35d48a41a8b"
      },
      "execution_count": 24,
      "outputs": [
        {
          "output_type": "stream",
          "name": "stdout",
          "text": [
            "maximum value= 15\n",
            "minimum value= 1\n"
          ]
        }
      ]
    },
    {
      "cell_type": "markdown",
      "source": [
        "#### Q3\n",
        "\n",
        "#### A)"
      ],
      "metadata": {
        "id": "iC3XdhFXr_P-"
      }
    },
    {
      "cell_type": "code",
      "source": [
        "text='hello world'\n",
        "print('1: To find the length of the sting \\n')\n",
        "print('2: To return max of three strings \\n')\n",
        "print('3: Accept a string every sucessive char with # \\n')\n",
        "print('4: Find number of words in the given string \\n')\n",
        "\n",
        "option=int(input('Enter any number between 1-4 \\n'))\n",
        "\n",
        "if option == 1:\n",
        "  print('len of string is:',len(text))\n",
        "\n",
        "elif option== 2:\n",
        "  print(text[:3])\n",
        "\n",
        "elif option == 3:\n",
        "  ch=[]\n",
        "  for i in 'Hello World':\n",
        "      ch.append(i)\n",
        "  for j in range(1,len(ch),2):\n",
        "      if ch[j] != \" \": \n",
        "          ch[j]= '#'\n",
        "  s=''\n",
        "  for k in ch:\n",
        "      s=s+k\n",
        "  print(s)\n",
        "  \n",
        "else:\n",
        "  res = len(text.split())\n",
        "  print (\"The number of words in string are : \" +  str(res))"
      ],
      "metadata": {
        "colab": {
          "base_uri": "https://localhost:8080/"
        },
        "id": "ouYMc2GVryVL",
        "outputId": "318eddbf-241d-409d-e973-88bdfb52b407"
      },
      "execution_count": 36,
      "outputs": [
        {
          "output_type": "stream",
          "name": "stdout",
          "text": [
            "1: To find the length of the sting \n",
            "\n",
            "2: To return max of three strings \n",
            "\n",
            "3: Accept a string every sucessive char with # \n",
            "\n",
            "4: Find number of words in the given string \n",
            "\n",
            "Enter any number between 1-4 \n",
            "3\n",
            "H#l#o W#r#d\n"
          ]
        }
      ]
    },
    {
      "cell_type": "code",
      "source": [
        ""
      ],
      "metadata": {
        "id": "Z_H_zCT5u_Qs"
      },
      "execution_count": 30,
      "outputs": []
    },
    {
      "cell_type": "code",
      "source": [
        ""
      ],
      "metadata": {
        "id": "KLxh97xuu_9Q"
      },
      "execution_count": null,
      "outputs": []
    }
  ]
}